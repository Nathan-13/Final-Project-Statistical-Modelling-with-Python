{
 "cells": [
  {
   "cell_type": "markdown",
   "metadata": {},
   "source": [
    "# CityBikes"
   ]
  },
  {
   "cell_type": "markdown",
   "metadata": {},
   "source": [
    "Send a request to CityBikes for the city of your choice. "
   ]
  },
  {
   "cell_type": "code",
   "execution_count": 1,
   "metadata": {},
   "outputs": [],
   "source": [
    "# Importing the require libraries\n",
    "import os\n",
    "import json\n",
    "import requests\n",
    "import pandas as pd"
   ]
  },
  {
   "cell_type": "code",
   "execution_count": 6,
   "metadata": {},
   "outputs": [
    {
     "name": "stdout",
     "output_type": "stream",
     "text": [
      "{\n",
      "  \"network\": {\n",
      "    \"company\": [\n",
      "      \"Social Bicycles Inc.\"\n",
      "    ],\n",
      "    \"gbfs_href\": \"https://hamilton.socialbicycles.com/opendata/gbfs.json\",\n",
      "    \"href\": \"/v2/networks/sobi-hamilton\",\n",
      "    \"id\": \"sobi-hamilton\",\n",
      "    \"location\": {\n",
      "      \"city\": \"Hamilton, ON\",\n",
      "      \"country\": \"CA\",\n",
      "      \"latitude\n"
     ]
    }
   ],
   "source": [
    "# Get network data\n",
    "city_bike_networks = requests.get(\"http://api.citybik.es/v2/networks\").json()\n",
    "city_bike_networks\n",
    "\n",
    "# Get data for the city of Hamilton with network_id: sobi-hamilton\n",
    "network_id = 'sobi-hamilton'\n",
    "network_json = requests.get(\"http://api.citybik.es/v2/networks/\"+network_id).json()\n",
    "\n",
    "# Convert JSON data to a string with indentation\n",
    "json_str = json.dumps(network_json, indent=2, ensure_ascii=False)\n",
    "\n",
    "# Limit the output to a certain number of characters\n",
    "max_chars = 300\n",
    "shortened_json_str = json_str[:max_chars]\n",
    "\n",
    "# Display the shortened JSON string\n",
    "print(shortened_json_str)"
   ]
  },
  {
   "cell_type": "markdown",
   "metadata": {},
   "source": [
    "Parse through the response to get the details you want for the bike stations in that city (latitude, longitude, number of bikes). "
   ]
  },
  {
   "cell_type": "code",
   "execution_count": 9,
   "metadata": {},
   "outputs": [],
   "source": [
    "# Extract station details\n",
    "stations_data = network_json['network']['stations']\n",
    "station_details = []\n",
    "\n",
    "for station in stations_data:\n",
    "    details = {\n",
    "        'name': station['name'],\n",
    "        'latitude': station['latitude'],\n",
    "        'longitude': station['longitude'],\n",
    "        'number_of_bikes': station['free_bikes']+station['empty_slots']\n",
    "    }\n",
    "    station_details.append(details)\n"
   ]
  },
  {
   "cell_type": "markdown",
   "metadata": {},
   "source": [
    "Put your parsed results into a DataFrame."
   ]
  },
  {
   "cell_type": "code",
   "execution_count": 10,
   "metadata": {},
   "outputs": [
    {
     "data": {
      "text/html": [
       "<div>\n",
       "<style scoped>\n",
       "    .dataframe tbody tr th:only-of-type {\n",
       "        vertical-align: middle;\n",
       "    }\n",
       "\n",
       "    .dataframe tbody tr th {\n",
       "        vertical-align: top;\n",
       "    }\n",
       "\n",
       "    .dataframe thead th {\n",
       "        text-align: right;\n",
       "    }\n",
       "</style>\n",
       "<table border=\"1\" class=\"dataframe\">\n",
       "  <thead>\n",
       "    <tr style=\"text-align: right;\">\n",
       "      <th></th>\n",
       "      <th>name</th>\n",
       "      <th>latitude</th>\n",
       "      <th>longitude</th>\n",
       "      <th>number_of_bikes</th>\n",
       "    </tr>\n",
       "  </thead>\n",
       "  <tbody>\n",
       "    <tr>\n",
       "      <th>0</th>\n",
       "      <td>Hess at king</td>\n",
       "      <td>43.259126</td>\n",
       "      <td>-79.877212</td>\n",
       "      <td>12</td>\n",
       "    </tr>\n",
       "    <tr>\n",
       "      <th>1</th>\n",
       "      <td>Bayfront Park</td>\n",
       "      <td>43.269288</td>\n",
       "      <td>-79.871327</td>\n",
       "      <td>34</td>\n",
       "    </tr>\n",
       "    <tr>\n",
       "      <th>2</th>\n",
       "      <td>Bay at Strachan</td>\n",
       "      <td>43.267859</td>\n",
       "      <td>-79.867923</td>\n",
       "      <td>25</td>\n",
       "    </tr>\n",
       "    <tr>\n",
       "      <th>3</th>\n",
       "      <td>Bay at Mulberry</td>\n",
       "      <td>43.263198</td>\n",
       "      <td>-79.871803</td>\n",
       "      <td>14</td>\n",
       "    </tr>\n",
       "    <tr>\n",
       "      <th>4</th>\n",
       "      <td>City Hall</td>\n",
       "      <td>43.256132</td>\n",
       "      <td>-79.874499</td>\n",
       "      <td>17</td>\n",
       "    </tr>\n",
       "    <tr>\n",
       "      <th>...</th>\n",
       "      <td>...</td>\n",
       "      <td>...</td>\n",
       "      <td>...</td>\n",
       "      <td>...</td>\n",
       "    </tr>\n",
       "    <tr>\n",
       "      <th>139</th>\n",
       "      <td>Main at Longwood</td>\n",
       "      <td>43.259604</td>\n",
       "      <td>-79.902103</td>\n",
       "      <td>9</td>\n",
       "    </tr>\n",
       "    <tr>\n",
       "      <th>140</th>\n",
       "      <td>Van Wagner's Beach</td>\n",
       "      <td>43.260008</td>\n",
       "      <td>-79.766388</td>\n",
       "      <td>13</td>\n",
       "    </tr>\n",
       "    <tr>\n",
       "      <th>141</th>\n",
       "      <td>King William at James</td>\n",
       "      <td>43.257635</td>\n",
       "      <td>-79.868487</td>\n",
       "      <td>5</td>\n",
       "    </tr>\n",
       "    <tr>\n",
       "      <th>142</th>\n",
       "      <td>Westdale Village - Paisley</td>\n",
       "      <td>43.261712</td>\n",
       "      <td>-79.905901</td>\n",
       "      <td>10</td>\n",
       "    </tr>\n",
       "    <tr>\n",
       "      <th>143</th>\n",
       "      <td>Westdale Aviary</td>\n",
       "      <td>43.264869</td>\n",
       "      <td>-79.907480</td>\n",
       "      <td>8</td>\n",
       "    </tr>\n",
       "  </tbody>\n",
       "</table>\n",
       "<p>144 rows × 4 columns</p>\n",
       "</div>"
      ],
      "text/plain": [
       "                           name   latitude  longitude  number_of_bikes\n",
       "0                  Hess at king  43.259126 -79.877212               12\n",
       "1                 Bayfront Park  43.269288 -79.871327               34\n",
       "2               Bay at Strachan  43.267859 -79.867923               25\n",
       "3               Bay at Mulberry  43.263198 -79.871803               14\n",
       "4                     City Hall  43.256132 -79.874499               17\n",
       "..                          ...        ...        ...              ...\n",
       "139            Main at Longwood  43.259604 -79.902103                9\n",
       "140          Van Wagner's Beach  43.260008 -79.766388               13\n",
       "141       King William at James  43.257635 -79.868487                5\n",
       "142  Westdale Village - Paisley  43.261712 -79.905901               10\n",
       "143             Westdale Aviary  43.264869 -79.907480                8\n",
       "\n",
       "[144 rows x 4 columns]"
      ]
     },
     "execution_count": 10,
     "metadata": {},
     "output_type": "execute_result"
    }
   ],
   "source": [
    "# Create and display a DataFrame\n",
    "df = pd.DataFrame(station_details)\n",
    "df"
   ]
  },
  {
   "cell_type": "code",
   "execution_count": 12,
   "metadata": {},
   "outputs": [],
   "source": [
    "# persist city bike networks DataFrame to a CSV file on the local disk.\n",
    "df.to_csv('hamilton_bike_stations')"
   ]
  },
  {
   "cell_type": "code",
   "execution_count": null,
   "metadata": {},
   "outputs": [],
   "source": []
  }
 ],
 "metadata": {
  "kernelspec": {
   "display_name": "Python 3 (ipykernel)",
   "language": "python",
   "name": "python3"
  },
  "language_info": {
   "codemirror_mode": {
    "name": "ipython",
    "version": 3
   },
   "file_extension": ".py",
   "mimetype": "text/x-python",
   "name": "python",
   "nbconvert_exporter": "python",
   "pygments_lexer": "ipython3",
   "version": "3.9.7"
  }
 },
 "nbformat": 4,
 "nbformat_minor": 4
}
